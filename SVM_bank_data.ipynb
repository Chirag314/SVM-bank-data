{
  "nbformat": 4,
  "nbformat_minor": 0,
  "metadata": {
    "colab": {
      "provenance": [],
      "collapsed_sections": [],
      "authorship_tag": "ABX9TyONEKWKedtbq6u5CbHsmuty",
      "include_colab_link": true
    },
    "kernelspec": {
      "name": "python3",
      "display_name": "Python 3"
    },
    "language_info": {
      "name": "python"
    }
  },
  "cells": [
    {
      "cell_type": "markdown",
      "metadata": {
        "id": "view-in-github",
        "colab_type": "text"
      },
      "source": [
        "<a href=\"https://colab.research.google.com/github/Chirag314/SVM-bank-data/blob/main/SVM_bank_data.ipynb\" target=\"_parent\"><img src=\"https://colab.research.google.com/assets/colab-badge.svg\" alt=\"Open In Colab\"/></a>"
      ]
    },
    {
      "cell_type": "markdown",
      "source": [
        "###This notebook is copied from exercises from book Ensemble Machine Learning Cookbook."
      ],
      "metadata": {
        "id": "de3ggC8Kv_99"
      }
    },
    {
      "cell_type": "code",
      "source": [
        "#import required libraries\n",
        "import os\n",
        "import pandas as pd\n",
        "import numpy as np\n",
        "import matplotlib.pyplot as plt\n",
        "import seaborn as sns\n",
        "from sklearn.svm import SVC\n",
        "from sklearn.preprocessing import StandardScaler\n",
        "from sklearn.metrics import accuracy_score\n",
        "from sklearn.metrics import  roc_curve, auc\n",
        "from sklearn.metrics import confusion_matrix\n",
        "from sklearn.model_selection import train_test_split\n",
        "from sklearn.feature_extraction.text import CountVectorizer\n",
        "from sklearn.naive_bayes import MultinomialNB\n",
        "\n",
        "import itertools\n",
        "from sklearn import tree"
      ],
      "metadata": {
        "id": "CWjW7ISB-O8s"
      },
      "execution_count": 2,
      "outputs": []
    },
    {
      "cell_type": "code",
      "execution_count": 3,
      "metadata": {
        "colab": {
          "base_uri": "https://localhost:8080/"
        },
        "id": "rror9ooAv2jU",
        "outputId": "eaa80dc0-cf24-4408-b670-f8670dbb869e"
      },
      "outputs": [
        {
          "output_type": "stream",
          "name": "stdout",
          "text": [
            "   age          job  marital  education default  balance housing loan  \\\n",
            "0   30   unemployed  married    primary      no     1787      no   no   \n",
            "1   33     services  married  secondary      no     4789     yes  yes   \n",
            "2   35   management   single   tertiary      no     1350     yes   no   \n",
            "3   30   management  married   tertiary      no     1476     yes  yes   \n",
            "4   59  blue-collar  married  secondary      no        0     yes   no   \n",
            "\n",
            "    contact  day month  duration  campaign  pdays  previous poutcome   y  \n",
            "0  cellular   19   oct        79         1     -1         0  unknown  no  \n",
            "1  cellular   11   may       220         1    339         4  failure  no  \n",
            "2  cellular   16   apr       185         1    330         1  failure  no  \n",
            "3   unknown    3   jun       199         4     -1         0  unknown  no  \n",
            "4   unknown    5   may       226         1     -1         0  unknown  no  \n"
          ]
        }
      ],
      "source": [
        "# Read data from github. Use raw format and copy url# Note normal url and raw url will be different.\n",
        "import pandas as pd\n",
        "pd.options.display.max_rows=None\n",
        "pd.options.display.max_columns=None\n",
        "url = 'https://raw.githubusercontent.com/PacktPublishing/Ensemble-Machine-Learning-Cookbook/master/Chapter04/Support%20Vector%20Machines/bank.csv'\n",
        "df_bankdata = pd.read_csv(url)\n",
        "#df = pd.read_csv(url)\n",
        "print(df_bankdata.head(5))"
      ]
    },
    {
      "cell_type": "code",
      "source": [
        "df_bankdata.shape"
      ],
      "metadata": {
        "colab": {
          "base_uri": "https://localhost:8080/"
        },
        "id": "7Bssz3tOvWQW",
        "outputId": "83e6853e-b932-45a1-896f-30e8819d904f"
      },
      "execution_count": 4,
      "outputs": [
        {
          "output_type": "execute_result",
          "data": {
            "text/plain": [
              "(4521, 17)"
            ]
          },
          "metadata": {},
          "execution_count": 4
        }
      ]
    },
    {
      "cell_type": "code",
      "source": [
        "df_bankdata.dtypes\n",
        "#df_backorder.describe()"
      ],
      "metadata": {
        "colab": {
          "base_uri": "https://localhost:8080/"
        },
        "id": "SHW82cySCym-",
        "outputId": "e3e78fca-4e7e-4178-b8fc-445d3c02618c"
      },
      "execution_count": 5,
      "outputs": [
        {
          "output_type": "execute_result",
          "data": {
            "text/plain": [
              "age           int64\n",
              "job          object\n",
              "marital      object\n",
              "education    object\n",
              "default      object\n",
              "balance       int64\n",
              "housing      object\n",
              "loan         object\n",
              "contact      object\n",
              "day           int64\n",
              "month        object\n",
              "duration      int64\n",
              "campaign      int64\n",
              "pdays         int64\n",
              "previous      int64\n",
              "poutcome     object\n",
              "y            object\n",
              "dtype: object"
            ]
          },
          "metadata": {},
          "execution_count": 5
        }
      ]
    },
    {
      "cell_type": "code",
      "source": [
        "# check missing values\n",
        "df_bankdata.isnull().sum()"
      ],
      "metadata": {
        "colab": {
          "base_uri": "https://localhost:8080/"
        },
        "id": "VcgsCJAGC5cN",
        "outputId": "d4632c09-19ff-4e2a-e9c1-bed7d8545107"
      },
      "execution_count": 6,
      "outputs": [
        {
          "output_type": "execute_result",
          "data": {
            "text/plain": [
              "age          0\n",
              "job          0\n",
              "marital      0\n",
              "education    0\n",
              "default      0\n",
              "balance      0\n",
              "housing      0\n",
              "loan         0\n",
              "contact      0\n",
              "day          0\n",
              "month        0\n",
              "duration     0\n",
              "campaign     0\n",
              "pdays        0\n",
              "previous     0\n",
              "poutcome     0\n",
              "y            0\n",
              "dtype: int64"
            ]
          },
          "metadata": {},
          "execution_count": 6
        }
      ]
    },
    {
      "cell_type": "markdown",
      "source": [
        "#####With the following command, we notice there are no missing values, so we can proceed with our next steps:"
      ],
      "metadata": {
        "id": "8LysqcOnDPh-"
      }
    },
    {
      "cell_type": "code",
      "source": [
        "#We can check the class balance in our target variable as follows:\n",
        "print(\"Total number of class labels: {}\".format(df_bankdata.shape[0]))\n",
        "print(\"Number of people opted for term deposit: {}\".format(df_bankdata[df_bankdata.y=='yes'].shape[0]))\n",
        "print(\"Number of people do not opted for term deposit: {}\".format(df_bankdata[df_bankdata.y=='no'].shape[0]))"
      ],
      "metadata": {
        "id": "WeOBPQDBnsPi",
        "colab": {
          "base_uri": "https://localhost:8080/"
        },
        "outputId": "01acdc4c-7abd-47c4-9cdb-5f16f335906c"
      },
      "execution_count": 7,
      "outputs": [
        {
          "output_type": "stream",
          "name": "stdout",
          "text": [
            "Total number of class labels: 4521\n",
            "Number of people opted for term deposit: 521\n",
            "Number of people do not opted for term deposit: 4000\n"
          ]
        }
      ]
    },
    {
      "cell_type": "code",
      "source": [
        "#We can convert our target class to the binary values 1 and 0 with the following command:\n",
        "df_bankdata['y']=(df_bankdata['y']=='yes').astype(int)"
      ],
      "metadata": {
        "id": "iW0csbCQBuO_"
      },
      "execution_count": 8,
      "outputs": []
    },
    {
      "cell_type": "markdown",
      "source": [
        "We can now perform one-hot encoding on our categorical variables. We only select variables that are categorical in nature. In the following code, we use category_column_names to provide the names of the non-numeric variables:"
      ],
      "metadata": {
        "id": "odo0cB1DB_cs"
      }
    },
    {
      "cell_type": "code",
      "source": [
        "column_type=['object']\n",
        "df_bankdata_category_columns=df_bankdata.select_dtypes(column_type)\n",
        "\n",
        "category_column_names=df_bankdata_category_columns.columns.values.tolist()\n",
        "category_column_names"
      ],
      "metadata": {
        "colab": {
          "base_uri": "https://localhost:8080/"
        },
        "id": "EnjIAQ4xBuLn",
        "outputId": "855dc74e-df07-417c-9b39-9cc8043b1449"
      },
      "execution_count": 9,
      "outputs": [
        {
          "output_type": "execute_result",
          "data": {
            "text/plain": [
              "['job',\n",
              " 'marital',\n",
              " 'education',\n",
              " 'default',\n",
              " 'housing',\n",
              " 'loan',\n",
              " 'contact',\n",
              " 'month',\n",
              " 'poutcome']"
            ]
          },
          "metadata": {},
          "execution_count": 9
        }
      ]
    },
    {
      "cell_type": "code",
      "source": [
        "#We run a loop over each of the non-numerical variables to perform one-hot encoding on them and add them back to the DataFrame. We will also delete the original non-numerical variables after performing one-hot encoding:\n",
        "\n",
        "for each_col in category_column_names:\n",
        "  dummy_var=pd.get_dummies(df_bankdata_category_columns[each_col],prefix=each_col)\n",
        "  df_joindata=df_bankdata.join(dummy_var)\n",
        "  df_joindata.drop([each_col],axis=1,inplace=True)\n",
        "  df_bankdata=df_joindata"
      ],
      "metadata": {
        "id": "vCOV6-C4BuJe"
      },
      "execution_count": 10,
      "outputs": []
    },
    {
      "cell_type": "code",
      "source": [
        "#We separate the predictor and response variables as follows:\n",
        "X=df_bankdata.iloc[:,:-1]\n",
        "Y=df_bankdata['y']"
      ],
      "metadata": {
        "id": "cJk80POyBuHj"
      },
      "execution_count": 11,
      "outputs": []
    },
    {
      "cell_type": "code",
      "source": [
        "#We also split our data into training and testing datasets:\n",
        "X_train, X_test, Y_train,Y_test=train_test_split(X, Y, test_size=0.2,random_state=1)\n"
      ],
      "metadata": {
        "id": "jLjXdWhqBuFS"
      },
      "execution_count": 13,
      "outputs": []
    },
    {
      "cell_type": "code",
      "source": [
        "# We then build our first model using SVC with the default kernel, radial basis function (RBF):\n",
        "svc_model=SVC(kernel='rbf')\n",
        "svc_model.fit(X_train, Y_train)"
      ],
      "metadata": {
        "id": "7dyplrTFDORt",
        "colab": {
          "base_uri": "https://localhost:8080/"
        },
        "outputId": "013a101a-d44c-49e4-e298-8a20fe8e8499"
      },
      "execution_count": 14,
      "outputs": [
        {
          "output_type": "execute_result",
          "data": {
            "text/plain": [
              "SVC()"
            ]
          },
          "metadata": {},
          "execution_count": 14
        }
      ]
    },
    {
      "cell_type": "markdown",
      "source": [
        "We check our training and testing accuracy via the SVC model built with the RBF kernel:"
      ],
      "metadata": {
        "id": "NHS_2R9zwamT"
      }
    },
    {
      "cell_type": "code",
      "source": [
        "train_predictedvalues=svc_model.predict(X_train)\n",
        "test_predictedvalues=svc_model.predict(X_test)\n",
        "\n",
        "print(\"Train accuracy score :\")\n",
        "print(accuracy_score(Y_train, train_predictedvalues))\n",
        "\n",
        "print(\"Test accuracy score :\")\n",
        "print(accuracy_score(Y_test,test_predictedvalues))"
      ],
      "metadata": {
        "id": "HMJTpbuGC5aA",
        "colab": {
          "base_uri": "https://localhost:8080/"
        },
        "outputId": "3dbaf008-8e0d-4452-81ce-376a85e4bf6f"
      },
      "execution_count": 16,
      "outputs": [
        {
          "output_type": "stream",
          "name": "stdout",
          "text": [
            "Train accuracy score :\n",
            "0.8877212389380531\n",
            "Test accuracy score :\n",
            "0.8729281767955801\n"
          ]
        }
      ]
    },
    {
      "cell_type": "code",
      "source": [
        "# We can rebuild our SVC model with a polynomial kernel as follows:\n",
        "svc_model=SVC(kernel='poly')\n",
        "svc_model.fit(X_train,Y_train)\n",
        "\n",
        "train_predictedvalues=svc_model.predict(X_train)\n",
        "test_predictedvaues=svc_model.predict(X_test)\n",
        "\n",
        "print('Train Accuracy Score:')\n",
        "print(accuracy_score(Y_train,train_predictedvalues))\n",
        "\n",
        "print('Test Accuracy Score:')\n",
        "print(accuracy_score(Y_test,test_predictedvalues))"
      ],
      "metadata": {
        "id": "QYVPhvsAC5Wd",
        "colab": {
          "base_uri": "https://localhost:8080/"
        },
        "outputId": "925900be-cc09-48f5-ef84-a02025e9f205"
      },
      "execution_count": 17,
      "outputs": [
        {
          "output_type": "stream",
          "name": "stdout",
          "text": [
            "Train Accuracy Score:\n",
            "0.8877212389380531\n",
            "Test Accuracy Score:\n",
            "0.8729281767955801\n"
          ]
        }
      ]
    },
    {
      "cell_type": "code",
      "source": [
        "#We can also build an SVC model with the linear kernel. Instead of kernel='ploy', we can replace this with kernel='linear' in the preceding code:\n",
        "svc_model=SVC(kernel='linear')\n",
        "svc_model.fit(X_train,Y_train)\n",
        "\n",
        "train_predictedvalues=svc_model.predict(X_train)\n",
        "test_predictedvaues=svc_model.predict(X_test)\n",
        "\n",
        "print('Train Accuracy Score:')\n",
        "print(accuracy_score(Y_train,train_predictedvalues))\n",
        "\n",
        "print('Test Accuracy Score:')\n",
        "print(accuracy_score(Y_test,test_predictedvalues))"
      ],
      "metadata": {
        "id": "D9ASAKEFC5Uf",
        "colab": {
          "base_uri": "https://localhost:8080/"
        },
        "outputId": "9b3708fd-e20d-4ef8-a6d0-10e26b2fd570"
      },
      "execution_count": 18,
      "outputs": [
        {
          "output_type": "stream",
          "name": "stdout",
          "text": [
            "Train Accuracy Score:\n",
            "0.9972345132743363\n",
            "Test Accuracy Score:\n",
            "0.8729281767955801\n"
          ]
        }
      ]
    }
  ]
}